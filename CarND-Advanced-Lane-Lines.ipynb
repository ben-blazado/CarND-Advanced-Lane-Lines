{
 "cells": [
  {
   "cell_type": "markdown",
   "metadata": {},
   "source": [
    "# Import Standard Modules"
   ]
  },
  {
   "cell_type": "code",
   "execution_count": 1,
   "metadata": {},
   "outputs": [],
   "source": [
    "%load_ext autoreload"
   ]
  },
  {
   "cell_type": "code",
   "execution_count": 2,
   "metadata": {},
   "outputs": [],
   "source": [
    "%autoreload 2\n",
    "import numpy as np\n",
    "import cv2\n",
    "import matplotlib.pyplot as plt\n",
    "import matplotlib.image as mpimg\n",
    "import glob\n",
    "%matplotlib inline"
   ]
  },
  {
   "cell_type": "markdown",
   "metadata": {},
   "source": [
    "# Logging"
   ]
  },
  {
   "cell_type": "code",
   "execution_count": 3,
   "metadata": {},
   "outputs": [],
   "source": [
    "import logging, sys\n",
    "\n",
    "def init_logging():\n",
    "    '''\n",
    "    Initializes logging for this project.\n",
    "    '''\n",
    "    \n",
    "    #--- refs: code taken from: https://docs.python.org/3/howto/logging-cookbook.html\n",
    "    #--- https://stackoverflow.com/a/9321890\n",
    "    #--- https://stackoverflow.com/a/56366848   to clear any existing loggers\n",
    "    \n",
    "    for handler in logging.root.handlers[:]:\n",
    "        logging.root.removeHandler(handler)\n",
    "    \n",
    "    logger = logging.getLogger()\n",
    "\n",
    "    logging.basicConfig(\n",
    "        level    = logging.DEBUG, \n",
    "        format   = '%(asctime)s | %(levelname)-8s | %(name)s: %(message)s',\n",
    "        filename = 'adv_lane_find.log',\n",
    "        filemode = 'w'\n",
    "    )\n",
    "        \n",
    "    #--- console: INFO only, abbreviated format\n",
    "    console = logging.StreamHandler(sys.stdout)\n",
    "    console.setLevel(logging.INFO)\n",
    "    console_formatter = logging.Formatter('%(levelname)-8s | %(name)s: %(message)s')\n",
    "    console.setFormatter(console_formatter)\n",
    "    logger.addHandler(console)\n",
    "    \n",
    "    return\n",
    "\n",
    "init_logging()"
   ]
  },
  {
   "cell_type": "markdown",
   "metadata": {},
   "source": [
    "# Advanced Lane Finder Modules"
   ]
  },
  {
   "cell_type": "code",
   "execution_count": null,
   "metadata": {},
   "outputs": [],
   "source": [
    "import alf_cam # camera\n",
    "import alf_enh # enhancer\n",
    "import alf_war # warper\n",
    "import alf_llg # lane finder and line generators\n",
    "import alf_hud # heads up display composes images\n",
    "import alf_con # controls above components\n",
    "\n",
    "# main controller\n",
    "ctrlr = alf_con.Controller()"
   ]
  },
  {
   "cell_type": "markdown",
   "metadata": {},
   "source": [
    "# Process \"project_video.mp4\""
   ]
  },
  {
   "cell_type": "code",
   "execution_count": 5,
   "metadata": {},
   "outputs": [
    {
     "name": "stdout",
     "output_type": "stream",
     "text": [
      "INFO     | Controller: Processing video: project_video.mp4...\n",
      "INFO     | Controller: Video processing in progress: 10% complete.\n",
      "INFO     | Controller: Video processing in progress: 20% complete.\n",
      "INFO     | Controller: Video processing in progress: 30% complete.\n",
      "INFO     | Controller: Video processing in progress: 40% complete.\n",
      "INFO     | Controller: Video processing in progress: 50% complete.\n",
      "INFO     | Controller: Video processing in progress: 60% complete.\n",
      "INFO     | Controller: Video processing in progress: 70% complete.\n",
      "INFO     | Controller: Video processing in progress: 80% complete.\n",
      "INFO     | Controller: Video processing in progress: 90% complete.\n",
      "INFO     | Controller: Video processing in progress: 100% complete.\n",
      "INFO     | Controller: Video processing complete: output_images/project_video.mp4.\n"
     ]
    }
   ],
   "source": [
    "project_video = {\n",
    "    'filename'   : 'project_video.mp4',\n",
    "    'sob_min_x'  : 40,\n",
    "    'y_min_s'    : 57,\n",
    "    'y_min_v'    : 220,\n",
    "    'w_min_v'    : 201,\n",
    "    'max_coeffs' : 50,\n",
    "    'min_samples': 3,\n",
    "    'N'          : 12,\n",
    "    'coeff_bias' : 0.9,\n",
    "    'clip_start' : None,\n",
    "    'clip_end'   : None,\n",
    "    'output'     : 'project_video.mp4'\n",
    "}\n",
    "\n",
    "ctrlr.processVideo(project_video)"
   ]
  }
 ],
 "metadata": {
  "kernelspec": {
   "display_name": "Python 3",
   "language": "python",
   "name": "python3"
  },
  "language_info": {
   "codemirror_mode": {
    "name": "ipython",
    "version": 3
   },
   "file_extension": ".py",
   "mimetype": "text/x-python",
   "name": "python",
   "nbconvert_exporter": "python",
   "pygments_lexer": "ipython3",
   "version": "3.5.5"
  },
  "widgets": {
   "state": {},
   "version": "1.1.2"
  }
 },
 "nbformat": 4,
 "nbformat_minor": 4
}
