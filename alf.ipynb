{
 "cells": [
  {
   "cell_type": "markdown",
   "metadata": {},
   "source": [
    "# Advanced Lane Finder\n",
    "\n",
    "This notebook provides an example of how to use the pipeline to process a video of a road and detect its lanes. It also has demonstrations of each stage of the project.\n",
    "\n",
    "## The Main Project\n",
    "___\n",
    "\n",
    "### Import Project Modules"
   ]
  },
  {
   "cell_type": "code",
   "execution_count": 1,
   "metadata": {},
   "outputs": [],
   "source": [
    "import alf_cam\n",
    "import alf_enh\n",
    "import alf_war\n",
    "import alf_llg\n",
    "import alf_hud\n",
    "import alf_con\n",
    "import alf_utils\n",
    "\n",
    "%load_ext autoreload\n",
    "%autoreload 2"
   ]
  },
  {
   "cell_type": "markdown",
   "metadata": {},
   "source": [
    "### Initialize Logging and Create the Main Controller\n",
    "To initilize logging, use `alf_utils.init_logging()`.\n",
    "To create new instance of controller which controls the pipeline, use `alf_con.Controller()`."
   ]
  },
  {
   "cell_type": "code",
   "execution_count": 2,
   "metadata": {},
   "outputs": [
    {
     "name": "stdout",
     "output_type": "stream",
     "text": [
      "INFO     | alf_utils: Logging initialized.\n",
      "INFO     | Controller: Initializing components...\n",
      "INFO     | Camera: Calibrating...\n",
      "INFO     | ChessboardImages: Loading chessboard images...\n",
      "INFO     | ChessboardImages: ...completed loading chessboard images.\n",
      "INFO     | ChessboardImages: Finding chessboard corners...\n",
      "INFO     | ChessboardImages: ...completed finding chessboard corners.\n",
      "INFO     | Camera: ...calibrated.\n",
      "INFO     | ImageWarper: Transformation matrices created.\n",
      "INFO     | Controller: ...components initialized.\n"
     ]
    }
   ],
   "source": [
    "alf_utils.init_logging()\n",
    "ctrlr = alf_con.Controller()"
   ]
  },
  {
   "cell_type": "markdown",
   "metadata": {},
   "source": [
    "### Specifiy Parameters to Process the Project Video\n",
    "The parameters are in a dict and have the following keys:\n",
    "```\n",
    "    'filename'   : filename of the video to process\n",
    "    'sob_min_x'  : [0..255] minimum sobel x-gradient to detect edge\n",
    "    'y_min_s'    : [0..255] minimum saturation (in HSV colorspace) to be considered pixel of yellow lane    \n",
    "    'y_min_v'    : [0..255] minimum value (in HSV colorspace) to be considered pixel of yellow lane    \n",
    "    'w_max_s'    : [0..255] minimum saturation (in HSV colorspace) to be considered pixel of white lane    \n",
    "    'w_min_v'    : [0..255] minimum value (in HSV colorspace) to be considered pixel of white lane       \n",
    "    'max_coeffs' : [>0] maximum number of sets of coefficients to keep for line comparison purposes\n",
    "    'min_samples': [>0] minimum number of previous lines needed to smooth\n",
    "    'N'          : [>0] number of standard deviations from the mean of coeffs to be condsidered a good line\n",
    "    'coeff_bias' : [0.0..1.0] amounf of weight to put on current coefficents compared to previous coefficients\n",
    "    'clip_start' : [None or >0] start time on clip to process, in secs; use None to process entire video\n",
    "    'clip_end'   : [None or >0] end time on clip to process, in secs; use None to process entire video\n",
    "    'stage'      : [0..5] stage to output;  0 - undistorted image\n",
    "                                            1 - enahnced edges and hsv color space\n",
    "                                            2 - top-down view\n",
    "                                            3 - lane area\n",
    "                                            4 - lanes unwarped\n",
    "                                            5 - final composed image\n",
    "    'output'     : filename of video file to create\n",
    "```\n",
    "Call `Controller.processVideo()` using the parameters to process the video."
   ]
  },
  {
   "cell_type": "code",
   "execution_count": 3,
   "metadata": {},
   "outputs": [
    {
     "name": "stdout",
     "output_type": "stream",
     "text": [
      "INFO     | Controller: Processing video: project_video.mp4...\n",
      "INFO     | Controller: Video processing in progress: 10% complete.\n",
      "INFO     | Controller: Video processing in progress: 20% complete.\n",
      "INFO     | Controller: Video processing in progress: 30% complete.\n",
      "INFO     | Controller: Video processing in progress: 40% complete.\n",
      "INFO     | Controller: Video processing in progress: 50% complete.\n",
      "INFO     | Controller: Video processing in progress: 60% complete.\n",
      "INFO     | Controller: Video processing in progress: 70% complete.\n",
      "INFO     | Controller: Video processing in progress: 80% complete.\n",
      "INFO     | Controller: Video processing in progress: 90% complete.\n",
      "INFO     | Controller: Video processing in progress: 100% complete.\n",
      "INFO     | Controller: Video processing complete: output_images/out_project_video.mp4.\n"
     ]
    }
   ],
   "source": [
    "project_video = {\n",
    "    'filename'   : 'project_video.mp4',\n",
    "    'sob_min_x'  : 5,\n",
    "    'y_min_s'    : 76,    \n",
    "    'y_min_v'    : 96,\n",
    "    'w_max_s'    : 30,\n",
    "    'w_min_v'    : 202,   \n",
    "    'max_coeffs' : 50,\n",
    "    'min_samples': 3,\n",
    "    'N'          : 12,\n",
    "    'coeff_bias' : 0.9,\n",
    "    'clip_start' : None,\n",
    "    'clip_end'   : None,\n",
    "    'stage'      : 5,\n",
    "    'output'     : 'out_project_video.mp4'\n",
    "}\n",
    "ctrlr.processVideo(project_video)"
   ]
  },
  {
   "cell_type": "markdown",
   "metadata": {},
   "source": [
    "### Challenge Video\n",
    "Specify new parameters for `challenge_video.mp4`, restart controller using `Controller.restart()`, and process the video."
   ]
  },
  {
   "cell_type": "code",
   "execution_count": 4,
   "metadata": {},
   "outputs": [
    {
     "name": "stdout",
     "output_type": "stream",
     "text": [
      "INFO     | Controller: Restarted.\n",
      "INFO     | Controller: Processing video: challenge_video.mp4...\n",
      "INFO     | Controller: Video processing in progress: 10% complete.\n",
      "INFO     | Controller: Video processing in progress: 20% complete.\n",
      "INFO     | Controller: Video processing in progress: 30% complete.\n",
      "INFO     | Controller: Video processing in progress: 40% complete.\n",
      "INFO     | Controller: Video processing in progress: 50% complete.\n",
      "INFO     | Controller: Video processing in progress: 60% complete.\n",
      "INFO     | Controller: Video processing in progress: 70% complete.\n",
      "INFO     | Controller: Video processing in progress: 80% complete.\n",
      "INFO     | Controller: Video processing in progress: 90% complete.\n",
      "INFO     | Controller: Video processing in progress: 100% complete.\n",
      "WARNING  | py.warnings: C:\\ProgramData\\Anaconda3\\envs\\carnd-term1\\lib\\site-packages\\moviepy\\video\\io\\ffmpeg_reader.py:130: UserWarning: Warning: in file challenge_video.mp4, 2764800 bytes wanted but 0 bytes read,at frame 484/485, at time 16.15/16.15 sec. Using the last valid frame instead.\n",
      "  UserWarning)\n",
      "\n",
      "INFO     | Controller: Video processing complete: output_images/out_challenge_video.mp4.\n"
     ]
    }
   ],
   "source": [
    "challenge_video = {\n",
    "    'filename'   : 'challenge_video.mp4',\n",
    "    'sob_min_x'  : 10, \n",
    "    'y_min_s'    : 25,  \n",
    "    'y_min_v'    : 150,\n",
    "    'w_max_s'    : 12, \n",
    "    'w_min_v'    : 158,\n",
    "    'max_coeffs' : 15,\n",
    "    'min_samples': 3,\n",
    "    'N'          : 3,\n",
    "    'coeff_bias' : 0.9,\n",
    "    'clip_start' : None,\n",
    "    'clip_end'   : None,\n",
    "    'stage'      : 5,\n",
    "    'output'     : 'out_challenge_video.mp4'\n",
    "}\n",
    "ctrlr.restart()\n",
    "ctrlr.processVideo(challenge_video)"
   ]
  },
  {
   "cell_type": "markdown",
   "metadata": {},
   "source": [
    "## Harder Challenge Video\n",
    "The challenging conditions of the Harder Challenge Video exceeds the capabilties of this project. To see it anyway, specify new parameters for `harder_challenge_video.mp4`, restart controller using `Controller.restart()`, and process the video."
   ]
  },
  {
   "cell_type": "code",
   "execution_count": null,
   "metadata": {},
   "outputs": [
    {
     "name": "stdout",
     "output_type": "stream",
     "text": [
      "INFO     | Controller: Restarted.\n",
      "INFO     | Controller: Processing video: harder_challenge_video.mp4...\n",
      "WARNING  | py.warnings: C:\\Users\\Owner\\Documents\\git\\CarND-Advanced-Lane-Lines\\alf_llg.py:869: RankWarning: Polyfit may be poorly conditioned\n",
      "  self.lane_line.fit(x_lane_points, y_lane_points)\n",
      "\n",
      "INFO     | Controller: Video processing in progress: 10% complete.\n",
      "WARNING  | py.warnings: C:\\Users\\Owner\\Documents\\git\\CarND-Advanced-Lane-Lines\\alf_llg.py:869: RankWarning: Polyfit may be poorly conditioned\n",
      "  self.lane_line.fit(x_lane_points, y_lane_points)\n",
      "\n",
      "WARNING  | py.warnings: C:\\Users\\Owner\\Documents\\git\\CarND-Advanced-Lane-Lines\\alf_llg.py:869: RankWarning: Polyfit may be poorly conditioned\n",
      "  self.lane_line.fit(x_lane_points, y_lane_points)\n",
      "\n",
      "WARNING  | py.warnings: C:\\Users\\Owner\\Documents\\git\\CarND-Advanced-Lane-Lines\\alf_llg.py:869: RankWarning: Polyfit may be poorly conditioned\n",
      "  self.lane_line.fit(x_lane_points, y_lane_points)\n",
      "\n",
      "WARNING  | py.warnings: C:\\Users\\Owner\\Documents\\git\\CarND-Advanced-Lane-Lines\\alf_llg.py:869: RankWarning: Polyfit may be poorly conditioned\n",
      "  self.lane_line.fit(x_lane_points, y_lane_points)\n",
      "\n",
      "WARNING  | py.warnings: C:\\Users\\Owner\\Documents\\git\\CarND-Advanced-Lane-Lines\\alf_llg.py:869: RankWarning: Polyfit may be poorly conditioned\n",
      "  self.lane_line.fit(x_lane_points, y_lane_points)\n",
      "\n",
      "WARNING  | py.warnings: C:\\Users\\Owner\\Documents\\git\\CarND-Advanced-Lane-Lines\\alf_llg.py:869: RankWarning: Polyfit may be poorly conditioned\n",
      "  self.lane_line.fit(x_lane_points, y_lane_points)\n",
      "\n",
      "WARNING  | py.warnings: C:\\Users\\Owner\\Documents\\git\\CarND-Advanced-Lane-Lines\\alf_llg.py:869: RankWarning: Polyfit may be poorly conditioned\n",
      "  self.lane_line.fit(x_lane_points, y_lane_points)\n",
      "\n",
      "WARNING  | py.warnings: C:\\Users\\Owner\\Documents\\git\\CarND-Advanced-Lane-Lines\\alf_llg.py:869: RankWarning: Polyfit may be poorly conditioned\n",
      "  self.lane_line.fit(x_lane_points, y_lane_points)\n",
      "\n",
      "INFO     | Controller: Video processing in progress: 20% complete.\n",
      "WARNING  | py.warnings: C:\\Users\\Owner\\Documents\\git\\CarND-Advanced-Lane-Lines\\alf_llg.py:869: RankWarning: Polyfit may be poorly conditioned\n",
      "  self.lane_line.fit(x_lane_points, y_lane_points)\n",
      "\n",
      "WARNING  | py.warnings: C:\\Users\\Owner\\Documents\\git\\CarND-Advanced-Lane-Lines\\alf_llg.py:869: RankWarning: Polyfit may be poorly conditioned\n",
      "  self.lane_line.fit(x_lane_points, y_lane_points)\n",
      "\n",
      "WARNING  | py.warnings: C:\\Users\\Owner\\Documents\\git\\CarND-Advanced-Lane-Lines\\alf_llg.py:869: RankWarning: Polyfit may be poorly conditioned\n",
      "  self.lane_line.fit(x_lane_points, y_lane_points)\n",
      "\n",
      "WARNING  | py.warnings: C:\\Users\\Owner\\Documents\\git\\CarND-Advanced-Lane-Lines\\alf_llg.py:869: RankWarning: Polyfit may be poorly conditioned\n",
      "  self.lane_line.fit(x_lane_points, y_lane_points)\n",
      "\n",
      "WARNING  | py.warnings: C:\\Users\\Owner\\Documents\\git\\CarND-Advanced-Lane-Lines\\alf_llg.py:869: RankWarning: Polyfit may be poorly conditioned\n",
      "  self.lane_line.fit(x_lane_points, y_lane_points)\n",
      "\n",
      "WARNING  | py.warnings: C:\\Users\\Owner\\Documents\\git\\CarND-Advanced-Lane-Lines\\alf_llg.py:869: RankWarning: Polyfit may be poorly conditioned\n",
      "  self.lane_line.fit(x_lane_points, y_lane_points)\n",
      "\n",
      "WARNING  | py.warnings: C:\\Users\\Owner\\Documents\\git\\CarND-Advanced-Lane-Lines\\alf_llg.py:869: RankWarning: Polyfit may be poorly conditioned\n",
      "  self.lane_line.fit(x_lane_points, y_lane_points)\n",
      "\n",
      "WARNING  | py.warnings: C:\\Users\\Owner\\Documents\\git\\CarND-Advanced-Lane-Lines\\alf_llg.py:869: RankWarning: Polyfit may be poorly conditioned\n",
      "  self.lane_line.fit(x_lane_points, y_lane_points)\n",
      "\n",
      "WARNING  | py.warnings: C:\\Users\\Owner\\Documents\\git\\CarND-Advanced-Lane-Lines\\alf_llg.py:869: RankWarning: Polyfit may be poorly conditioned\n",
      "  self.lane_line.fit(x_lane_points, y_lane_points)\n",
      "\n",
      "WARNING  | py.warnings: C:\\Users\\Owner\\Documents\\git\\CarND-Advanced-Lane-Lines\\alf_llg.py:869: RankWarning: Polyfit may be poorly conditioned\n",
      "  self.lane_line.fit(x_lane_points, y_lane_points)\n",
      "\n",
      "WARNING  | py.warnings: C:\\Users\\Owner\\Documents\\git\\CarND-Advanced-Lane-Lines\\alf_llg.py:869: RankWarning: Polyfit may be poorly conditioned\n",
      "  self.lane_line.fit(x_lane_points, y_lane_points)\n",
      "\n",
      "WARNING  | py.warnings: C:\\Users\\Owner\\Documents\\git\\CarND-Advanced-Lane-Lines\\alf_llg.py:869: RankWarning: Polyfit may be poorly conditioned\n",
      "  self.lane_line.fit(x_lane_points, y_lane_points)\n",
      "\n",
      "WARNING  | py.warnings: C:\\Users\\Owner\\Documents\\git\\CarND-Advanced-Lane-Lines\\alf_llg.py:869: RankWarning: Polyfit may be poorly conditioned\n",
      "  self.lane_line.fit(x_lane_points, y_lane_points)\n",
      "\n",
      "WARNING  | py.warnings: C:\\Users\\Owner\\Documents\\git\\CarND-Advanced-Lane-Lines\\alf_llg.py:869: RankWarning: Polyfit may be poorly conditioned\n",
      "  self.lane_line.fit(x_lane_points, y_lane_points)\n",
      "\n",
      "WARNING  | py.warnings: C:\\Users\\Owner\\Documents\\git\\CarND-Advanced-Lane-Lines\\alf_llg.py:869: RankWarning: Polyfit may be poorly conditioned\n",
      "  self.lane_line.fit(x_lane_points, y_lane_points)\n",
      "\n",
      "WARNING  | py.warnings: C:\\Users\\Owner\\Documents\\git\\CarND-Advanced-Lane-Lines\\alf_llg.py:869: RankWarning: Polyfit may be poorly conditioned\n",
      "  self.lane_line.fit(x_lane_points, y_lane_points)\n",
      "\n",
      "WARNING  | py.warnings: C:\\Users\\Owner\\Documents\\git\\CarND-Advanced-Lane-Lines\\alf_llg.py:869: RankWarning: Polyfit may be poorly conditioned\n",
      "  self.lane_line.fit(x_lane_points, y_lane_points)\n",
      "\n",
      "WARNING  | py.warnings: C:\\Users\\Owner\\Documents\\git\\CarND-Advanced-Lane-Lines\\alf_llg.py:869: RankWarning: Polyfit may be poorly conditioned\n",
      "  self.lane_line.fit(x_lane_points, y_lane_points)\n",
      "\n",
      "WARNING  | py.warnings: C:\\Users\\Owner\\Documents\\git\\CarND-Advanced-Lane-Lines\\alf_llg.py:869: RankWarning: Polyfit may be poorly conditioned\n",
      "  self.lane_line.fit(x_lane_points, y_lane_points)\n",
      "\n",
      "WARNING  | py.warnings: C:\\Users\\Owner\\Documents\\git\\CarND-Advanced-Lane-Lines\\alf_llg.py:869: RankWarning: Polyfit may be poorly conditioned\n",
      "  self.lane_line.fit(x_lane_points, y_lane_points)\n",
      "\n",
      "WARNING  | py.warnings: C:\\Users\\Owner\\Documents\\git\\CarND-Advanced-Lane-Lines\\alf_llg.py:869: RankWarning: Polyfit may be poorly conditioned\n",
      "  self.lane_line.fit(x_lane_points, y_lane_points)\n",
      "\n",
      "WARNING  | py.warnings: C:\\Users\\Owner\\Documents\\git\\CarND-Advanced-Lane-Lines\\alf_llg.py:869: RankWarning: Polyfit may be poorly conditioned\n",
      "  self.lane_line.fit(x_lane_points, y_lane_points)\n",
      "\n",
      "WARNING  | py.warnings: C:\\Users\\Owner\\Documents\\git\\CarND-Advanced-Lane-Lines\\alf_llg.py:869: RankWarning: Polyfit may be poorly conditioned\n",
      "  self.lane_line.fit(x_lane_points, y_lane_points)\n",
      "\n",
      "WARNING  | py.warnings: C:\\Users\\Owner\\Documents\\git\\CarND-Advanced-Lane-Lines\\alf_llg.py:869: RankWarning: Polyfit may be poorly conditioned\n",
      "  self.lane_line.fit(x_lane_points, y_lane_points)\n",
      "\n",
      "WARNING  | py.warnings: C:\\Users\\Owner\\Documents\\git\\CarND-Advanced-Lane-Lines\\alf_llg.py:869: RankWarning: Polyfit may be poorly conditioned\n",
      "  self.lane_line.fit(x_lane_points, y_lane_points)\n",
      "\n",
      "WARNING  | py.warnings: C:\\Users\\Owner\\Documents\\git\\CarND-Advanced-Lane-Lines\\alf_llg.py:869: RankWarning: Polyfit may be poorly conditioned\n",
      "  self.lane_line.fit(x_lane_points, y_lane_points)\n",
      "\n",
      "WARNING  | py.warnings: C:\\Users\\Owner\\Documents\\git\\CarND-Advanced-Lane-Lines\\alf_llg.py:869: RankWarning: Polyfit may be poorly conditioned\n",
      "  self.lane_line.fit(x_lane_points, y_lane_points)\n",
      "\n",
      "WARNING  | py.warnings: C:\\Users\\Owner\\Documents\\git\\CarND-Advanced-Lane-Lines\\alf_llg.py:869: RankWarning: Polyfit may be poorly conditioned\n",
      "  self.lane_line.fit(x_lane_points, y_lane_points)\n",
      "\n",
      "WARNING  | py.warnings: C:\\Users\\Owner\\Documents\\git\\CarND-Advanced-Lane-Lines\\alf_llg.py:869: RankWarning: Polyfit may be poorly conditioned\n",
      "  self.lane_line.fit(x_lane_points, y_lane_points)\n",
      "\n",
      "WARNING  | py.warnings: C:\\Users\\Owner\\Documents\\git\\CarND-Advanced-Lane-Lines\\alf_llg.py:869: RankWarning: Polyfit may be poorly conditioned\n",
      "  self.lane_line.fit(x_lane_points, y_lane_points)\n",
      "\n",
      "WARNING  | py.warnings: C:\\Users\\Owner\\Documents\\git\\CarND-Advanced-Lane-Lines\\alf_llg.py:869: RankWarning: Polyfit may be poorly conditioned\n",
      "  self.lane_line.fit(x_lane_points, y_lane_points)\n",
      "\n",
      "INFO     | Controller: Video processing in progress: 30% complete.\n",
      "WARNING  | py.warnings: C:\\Users\\Owner\\Documents\\git\\CarND-Advanced-Lane-Lines\\alf_llg.py:869: RankWarning: Polyfit may be poorly conditioned\n",
      "  self.lane_line.fit(x_lane_points, y_lane_points)\n",
      "\n"
     ]
    },
    {
     "name": "stdout",
     "output_type": "stream",
     "text": [
      "INFO     | Controller: Video processing in progress: 40% complete.\n",
      "WARNING  | py.warnings: C:\\Users\\Owner\\Documents\\git\\CarND-Advanced-Lane-Lines\\alf_llg.py:869: RankWarning: Polyfit may be poorly conditioned\n",
      "  self.lane_line.fit(x_lane_points, y_lane_points)\n",
      "\n",
      "WARNING  | py.warnings: C:\\Users\\Owner\\Documents\\git\\CarND-Advanced-Lane-Lines\\alf_llg.py:869: RankWarning: Polyfit may be poorly conditioned\n",
      "  self.lane_line.fit(x_lane_points, y_lane_points)\n",
      "\n",
      "INFO     | Controller: Video processing in progress: 50% complete.\n",
      "WARNING  | py.warnings: C:\\Users\\Owner\\Documents\\git\\CarND-Advanced-Lane-Lines\\alf_llg.py:869: RankWarning: Polyfit may be poorly conditioned\n",
      "  self.lane_line.fit(x_lane_points, y_lane_points)\n",
      "\n",
      "WARNING  | py.warnings: C:\\Users\\Owner\\Documents\\git\\CarND-Advanced-Lane-Lines\\alf_llg.py:869: RankWarning: Polyfit may be poorly conditioned\n",
      "  self.lane_line.fit(x_lane_points, y_lane_points)\n",
      "\n",
      "WARNING  | py.warnings: C:\\Users\\Owner\\Documents\\git\\CarND-Advanced-Lane-Lines\\alf_llg.py:869: RankWarning: Polyfit may be poorly conditioned\n",
      "  self.lane_line.fit(x_lane_points, y_lane_points)\n",
      "\n",
      "INFO     | Controller: Video processing in progress: 60% complete.\n",
      "WARNING  | py.warnings: C:\\Users\\Owner\\Documents\\git\\CarND-Advanced-Lane-Lines\\alf_llg.py:869: RankWarning: Polyfit may be poorly conditioned\n",
      "  self.lane_line.fit(x_lane_points, y_lane_points)\n",
      "\n",
      "WARNING  | py.warnings: C:\\Users\\Owner\\Documents\\git\\CarND-Advanced-Lane-Lines\\alf_llg.py:869: RankWarning: Polyfit may be poorly conditioned\n",
      "  self.lane_line.fit(x_lane_points, y_lane_points)\n",
      "\n",
      "INFO     | Controller: Video processing in progress: 70% complete.\n",
      "WARNING  | py.warnings: C:\\Users\\Owner\\Documents\\git\\CarND-Advanced-Lane-Lines\\alf_llg.py:869: RankWarning: Polyfit may be poorly conditioned\n",
      "  self.lane_line.fit(x_lane_points, y_lane_points)\n",
      "\n",
      "WARNING  | py.warnings: C:\\Users\\Owner\\Documents\\git\\CarND-Advanced-Lane-Lines\\alf_llg.py:869: RankWarning: Polyfit may be poorly conditioned\n",
      "  self.lane_line.fit(x_lane_points, y_lane_points)\n",
      "\n",
      "WARNING  | py.warnings: C:\\Users\\Owner\\Documents\\git\\CarND-Advanced-Lane-Lines\\alf_llg.py:869: RankWarning: Polyfit may be poorly conditioned\n",
      "  self.lane_line.fit(x_lane_points, y_lane_points)\n",
      "\n",
      "WARNING  | py.warnings: C:\\Users\\Owner\\Documents\\git\\CarND-Advanced-Lane-Lines\\alf_llg.py:869: RankWarning: Polyfit may be poorly conditioned\n",
      "  self.lane_line.fit(x_lane_points, y_lane_points)\n",
      "\n",
      "WARNING  | py.warnings: C:\\Users\\Owner\\Documents\\git\\CarND-Advanced-Lane-Lines\\alf_llg.py:869: RankWarning: Polyfit may be poorly conditioned\n",
      "  self.lane_line.fit(x_lane_points, y_lane_points)\n",
      "\n",
      "WARNING  | py.warnings: C:\\Users\\Owner\\Documents\\git\\CarND-Advanced-Lane-Lines\\alf_llg.py:869: RankWarning: Polyfit may be poorly conditioned\n",
      "  self.lane_line.fit(x_lane_points, y_lane_points)\n",
      "\n",
      "WARNING  | py.warnings: C:\\Users\\Owner\\Documents\\git\\CarND-Advanced-Lane-Lines\\alf_llg.py:869: RankWarning: Polyfit may be poorly conditioned\n",
      "  self.lane_line.fit(x_lane_points, y_lane_points)\n",
      "\n",
      "WARNING  | py.warnings: C:\\Users\\Owner\\Documents\\git\\CarND-Advanced-Lane-Lines\\alf_llg.py:869: RankWarning: Polyfit may be poorly conditioned\n",
      "  self.lane_line.fit(x_lane_points, y_lane_points)\n",
      "\n",
      "WARNING  | py.warnings: C:\\Users\\Owner\\Documents\\git\\CarND-Advanced-Lane-Lines\\alf_llg.py:869: RankWarning: Polyfit may be poorly conditioned\n",
      "  self.lane_line.fit(x_lane_points, y_lane_points)\n",
      "\n",
      "WARNING  | py.warnings: C:\\Users\\Owner\\Documents\\git\\CarND-Advanced-Lane-Lines\\alf_llg.py:869: RankWarning: Polyfit may be poorly conditioned\n",
      "  self.lane_line.fit(x_lane_points, y_lane_points)\n",
      "\n",
      "WARNING  | py.warnings: C:\\Users\\Owner\\Documents\\git\\CarND-Advanced-Lane-Lines\\alf_llg.py:869: RankWarning: Polyfit may be poorly conditioned\n",
      "  self.lane_line.fit(x_lane_points, y_lane_points)\n",
      "\n",
      "WARNING  | py.warnings: C:\\Users\\Owner\\Documents\\git\\CarND-Advanced-Lane-Lines\\alf_llg.py:869: RankWarning: Polyfit may be poorly conditioned\n",
      "  self.lane_line.fit(x_lane_points, y_lane_points)\n",
      "\n",
      "WARNING  | py.warnings: C:\\Users\\Owner\\Documents\\git\\CarND-Advanced-Lane-Lines\\alf_llg.py:869: RankWarning: Polyfit may be poorly conditioned\n",
      "  self.lane_line.fit(x_lane_points, y_lane_points)\n",
      "\n",
      "WARNING  | py.warnings: C:\\Users\\Owner\\Documents\\git\\CarND-Advanced-Lane-Lines\\alf_llg.py:869: RankWarning: Polyfit may be poorly conditioned\n",
      "  self.lane_line.fit(x_lane_points, y_lane_points)\n",
      "\n",
      "WARNING  | py.warnings: C:\\Users\\Owner\\Documents\\git\\CarND-Advanced-Lane-Lines\\alf_llg.py:869: RankWarning: Polyfit may be poorly conditioned\n",
      "  self.lane_line.fit(x_lane_points, y_lane_points)\n",
      "\n",
      "WARNING  | py.warnings: C:\\Users\\Owner\\Documents\\git\\CarND-Advanced-Lane-Lines\\alf_llg.py:869: RankWarning: Polyfit may be poorly conditioned\n",
      "  self.lane_line.fit(x_lane_points, y_lane_points)\n",
      "\n",
      "INFO     | Controller: Video processing in progress: 80% complete.\n",
      "WARNING  | py.warnings: C:\\Users\\Owner\\Documents\\git\\CarND-Advanced-Lane-Lines\\alf_llg.py:869: RankWarning: Polyfit may be poorly conditioned\n",
      "  self.lane_line.fit(x_lane_points, y_lane_points)\n",
      "\n",
      "WARNING  | py.warnings: C:\\Users\\Owner\\Documents\\git\\CarND-Advanced-Lane-Lines\\alf_llg.py:869: RankWarning: Polyfit may be poorly conditioned\n",
      "  self.lane_line.fit(x_lane_points, y_lane_points)\n",
      "\n",
      "WARNING  | py.warnings: C:\\Users\\Owner\\Documents\\git\\CarND-Advanced-Lane-Lines\\alf_llg.py:869: RankWarning: Polyfit may be poorly conditioned\n",
      "  self.lane_line.fit(x_lane_points, y_lane_points)\n",
      "\n",
      "WARNING  | py.warnings: C:\\Users\\Owner\\Documents\\git\\CarND-Advanced-Lane-Lines\\alf_llg.py:869: RankWarning: Polyfit may be poorly conditioned\n",
      "  self.lane_line.fit(x_lane_points, y_lane_points)\n",
      "\n",
      "WARNING  | py.warnings: C:\\Users\\Owner\\Documents\\git\\CarND-Advanced-Lane-Lines\\alf_llg.py:869: RankWarning: Polyfit may be poorly conditioned\n",
      "  self.lane_line.fit(x_lane_points, y_lane_points)\n",
      "\n",
      "WARNING  | py.warnings: C:\\Users\\Owner\\Documents\\git\\CarND-Advanced-Lane-Lines\\alf_llg.py:869: RankWarning: Polyfit may be poorly conditioned\n",
      "  self.lane_line.fit(x_lane_points, y_lane_points)\n",
      "\n",
      "WARNING  | py.warnings: C:\\Users\\Owner\\Documents\\git\\CarND-Advanced-Lane-Lines\\alf_llg.py:869: RankWarning: Polyfit may be poorly conditioned\n",
      "  self.lane_line.fit(x_lane_points, y_lane_points)\n",
      "\n",
      "WARNING  | py.warnings: C:\\Users\\Owner\\Documents\\git\\CarND-Advanced-Lane-Lines\\alf_llg.py:869: RankWarning: Polyfit may be poorly conditioned\n",
      "  self.lane_line.fit(x_lane_points, y_lane_points)\n",
      "\n",
      "WARNING  | py.warnings: C:\\Users\\Owner\\Documents\\git\\CarND-Advanced-Lane-Lines\\alf_llg.py:869: RankWarning: Polyfit may be poorly conditioned\n",
      "  self.lane_line.fit(x_lane_points, y_lane_points)\n",
      "\n",
      "WARNING  | py.warnings: C:\\Users\\Owner\\Documents\\git\\CarND-Advanced-Lane-Lines\\alf_llg.py:869: RankWarning: Polyfit may be poorly conditioned\n",
      "  self.lane_line.fit(x_lane_points, y_lane_points)\n",
      "\n",
      "WARNING  | py.warnings: C:\\Users\\Owner\\Documents\\git\\CarND-Advanced-Lane-Lines\\alf_llg.py:869: RankWarning: Polyfit may be poorly conditioned\n",
      "  self.lane_line.fit(x_lane_points, y_lane_points)\n",
      "\n",
      "WARNING  | py.warnings: C:\\Users\\Owner\\Documents\\git\\CarND-Advanced-Lane-Lines\\alf_llg.py:869: RankWarning: Polyfit may be poorly conditioned\n",
      "  self.lane_line.fit(x_lane_points, y_lane_points)\n",
      "\n",
      "WARNING  | py.warnings: C:\\Users\\Owner\\Documents\\git\\CarND-Advanced-Lane-Lines\\alf_llg.py:869: RankWarning: Polyfit may be poorly conditioned\n",
      "  self.lane_line.fit(x_lane_points, y_lane_points)\n",
      "\n"
     ]
    }
   ],
   "source": [
    "harder_challenge_video = {\n",
    "    'filename'   : 'harder_challenge_video.mp4',\n",
    "    'sob_min_x'  : 10, # tried: 5\n",
    "    'y_min_s'    : 128, # tried: 87\n",
    "    'y_min_v'    : 230, \n",
    "    'w_max_s'    : 15, # tried: 12, 25 \n",
    "    'w_min_v'    : 200, # tried: 158, 125\n",
    "    'max_coeffs' : 60,\n",
    "    'min_samples': 3,\n",
    "    'N'          : 12,\n",
    "    'coeff_bias' : 0.9,\n",
    "    'clip_start' : None,\n",
    "    'clip_end'   : None,\n",
    "    'stage'      : 5,\n",
    "    'output'     : 'out_harder_challenge_video.mp4'\n",
    "}  \n",
    "ctrlr.restart()\n",
    "ctrlr.processVideo(harder_challenge_video)"
   ]
  },
  {
   "cell_type": "markdown",
   "metadata": {},
   "source": [
    "## Demos of Pipeline Stages\n",
    "___\n",
    "The rest of this notebook illustrates some of the more important functions of the pipeline.\n",
    "### Chessboard Corners\n",
    "Shows images of inner corners located to verify correct mapping of `objpoints` to `imgpoints` for calibration."
   ]
  },
  {
   "cell_type": "code",
   "execution_count": null,
   "metadata": {},
   "outputs": [],
   "source": [
    "alf_utils.demoChessboardCorners()"
   ]
  },
  {
   "cell_type": "markdown",
   "metadata": {},
   "source": [
    "### Camera Calibration\n",
    "Shows before and after images of the effects of distortion correction."
   ]
  },
  {
   "cell_type": "code",
   "execution_count": null,
   "metadata": {},
   "outputs": [],
   "source": [
    "alf_utils.demoCameraCalibration()"
   ]
  },
  {
   "cell_type": "markdown",
   "metadata": {},
   "source": [
    "### Perspective Transformation\n",
    "Shows image of road with perspective transformed to a top-down view."
   ]
  },
  {
   "cell_type": "code",
   "execution_count": null,
   "metadata": {},
   "outputs": [],
   "source": [
    "alf_utils.demoWarpImage(\"test_images/straight_lines1.jpg\")"
   ]
  },
  {
   "cell_type": "markdown",
   "metadata": {},
   "source": [
    "### Image Enhancement\n",
    "Shows image of Sobel-X gradient and HSV Color Transformations masks."
   ]
  },
  {
   "cell_type": "code",
   "execution_count": null,
   "metadata": {},
   "outputs": [],
   "source": [
    "alf_utils.demoEnhance(\"test_images/test5.jpg\")"
   ]
  },
  {
   "cell_type": "markdown",
   "metadata": {},
   "source": [
    "### Lane Search\n",
    "Shows images of lane search areas, lane pixels detected, lines representing the lanes, and lane area."
   ]
  },
  {
   "cell_type": "code",
   "execution_count": null,
   "metadata": {},
   "outputs": [],
   "source": [
    "alf_utils.demoLaneSearch(\"test_images/test5.jpg\")"
   ]
  },
  {
   "cell_type": "markdown",
   "metadata": {},
   "source": [
    "## Final Image\n",
    "Shows the combined original image, lane areas, radius of curvature, and center offset."
   ]
  },
  {
   "cell_type": "code",
   "execution_count": null,
   "metadata": {},
   "outputs": [],
   "source": [
    "alf_utils.demoCompose(\"test_images/test5.jpg\")"
   ]
  },
  {
   "cell_type": "markdown",
   "metadata": {},
   "source": [
    "## Shutdown Logging\n",
    "Release log file."
   ]
  },
  {
   "cell_type": "code",
   "execution_count": null,
   "metadata": {},
   "outputs": [],
   "source": [
    "alf_utils.shutdown_logging()"
   ]
  }
 ],
 "metadata": {
  "kernelspec": {
   "display_name": "Python 3",
   "language": "python",
   "name": "python3"
  },
  "language_info": {
   "codemirror_mode": {
    "name": "ipython",
    "version": 3
   },
   "file_extension": ".py",
   "mimetype": "text/x-python",
   "name": "python",
   "nbconvert_exporter": "python",
   "pygments_lexer": "ipython3",
   "version": "3.5.5"
  },
  "widgets": {
   "state": {},
   "version": "1.1.2"
  }
 },
 "nbformat": 4,
 "nbformat_minor": 4
}
